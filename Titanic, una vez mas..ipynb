{
 "cells": [
  {
   "cell_type": "code",
   "execution_count": 247,
   "id": "b27834ee",
   "metadata": {},
   "outputs": [],
   "source": [
    "import pandas as pd\n",
    "import numpy as np\n",
    "\n",
    "\n",
    "data = pd.read_csv(r\"C:\\Users\\tomas\\Desktop\\Proyectos\\Titanic\\train.csv\")\n",
    "test = pd.read_csv(r\"C:\\Users\\tomas\\Desktop\\Proyectos\\Titanic\\test.csv\") \n",
    "Ejemplo = pd.read_csv(r\"C:\\Users\\tomas\\Desktop\\Proyectos\\Titanic\\gender_submission.csv\")"
   ]
  },
  {
   "cell_type": "code",
   "execution_count": 248,
   "id": "3ba8c06c",
   "metadata": {},
   "outputs": [
    {
     "name": "stdout",
     "output_type": "stream",
     "text": [
      "PassengerId      0\n",
      "Survived         0\n",
      "Pclass           0\n",
      "Name             0\n",
      "Sex              0\n",
      "Age            177\n",
      "SibSp            0\n",
      "Parch            0\n",
      "Ticket           0\n",
      "Fare             0\n",
      "Cabin          687\n",
      "Embarked         2\n",
      "dtype: int64\n",
      "(891, 12)\n"
     ]
    }
   ],
   "source": [
    "print(data.isnull().sum())\n",
    "print(data.shape)"
   ]
  },
  {
   "cell_type": "code",
   "execution_count": 249,
   "id": "f9e1224c",
   "metadata": {},
   "outputs": [
    {
     "name": "stdout",
     "output_type": "stream",
     "text": [
      "S    644\n",
      "C    168\n",
      "Q     77\n",
      "Name: Embarked, dtype: int64\n"
     ]
    }
   ],
   "source": [
    "# Reemplazo las edades faltantes con la mediana de las mismas\n",
    "\n",
    "data[\"Age\"] = data[\"Age\"].fillna(data[\"Age\"].median())\n",
    "\n",
    "# Reemplazo cabin con 1 si hay datos, 0 si no.\n",
    "\n",
    "data[\"Cabin\"] = np.where(data[\"Cabin\"].isnull(), 0, 1)\n",
    "\n",
    "# Los casos de Embarked por su clase mayoritaria\n",
    "\n",
    "print(data[\"Embarked\"].value_counts())\n",
    "\n",
    "data[\"Embarked\"] = data[\"Embarked\"].fillna(\"S\")"
   ]
  },
  {
   "cell_type": "code",
   "execution_count": null,
   "id": "3de81bab",
   "metadata": {},
   "outputs": [],
   "source": [
    "\n",
    "\n"
   ]
  },
  {
   "cell_type": "code",
   "execution_count": 250,
   "id": "94c14eae",
   "metadata": {},
   "outputs": [],
   "source": [
    "# Preparo los datos como x e y\n",
    "\n",
    "y = data[\"Survived\"]\n",
    "X = data.drop([\"Survived\",\"PassengerId\",\"Name\",\"Ticket\"],axis=1)\n",
    "\n",
    "# Hago booleano las variables categóricas\n",
    "\n",
    "X=pd.get_dummies(X)\n",
    "\n",
    "\n",
    "\n"
   ]
  },
  {
   "cell_type": "code",
   "execution_count": 251,
   "id": "f9e45d39",
   "metadata": {},
   "outputs": [],
   "source": [
    "from sklearn.model_selection import train_test_split\n",
    "\n",
    "X_train, X_test, y_train, y_test = train_test_split(\n",
    "    X, y, test_size=0.33, random_state=3041997)\n",
    "\n",
    "# Los modelos suelen correr mejor cuando se los escala, así que hacemos eso\n",
    "from sklearn.preprocessing import StandardScaler\n",
    "\n",
    "scaler = StandardScaler().fit(X_train)\n",
    "\n",
    "X_train = scaler.transform(X_train)\n",
    "X_test = scaler.transform(X_test)\n"
   ]
  },
  {
   "cell_type": "code",
   "execution_count": 252,
   "id": "537caebe",
   "metadata": {},
   "outputs": [
    {
     "name": "stdout",
     "output_type": "stream",
     "text": [
      "Modelo en train con cross validation tiene una media de 0.8263119859268767\n",
      "Modelo en train con cross validation tiene una desvio de 0.008454556405291101\n",
      "Resultado en test 0.7869565217391306\n"
     ]
    }
   ],
   "source": [
    "# Vamos a correr unos modelitos para analizarlos, aunque seguramente nos quedemos con random forest \n",
    "#porque suele ser el que mejor dá.\n",
    "\n",
    "# Vamos a usar la curva roc para medir que modelo es mejor (hay un paper masomenos conocido que aclara que es mejor\n",
    "#que accuracy. Lo dejo en la bibliografía).\n",
    "\n",
    "from sklearn.metrics import roc_auc_score\n",
    "\n",
    "from sklearn.model_selection import cross_val_score\n",
    "\n",
    "#Naive Bayes\n",
    "\n",
    "from sklearn.naive_bayes import GaussianNB\n",
    "NB = GaussianNB()\n",
    "print(\"Modelo en train con cross validation tiene una media de {}\".format(cross_val_score(NB, X_train, y_train, scoring=\"roc_auc\", cv = 3).mean()))\n",
    "print(\"Modelo en train con cross validation tiene una desvio de {}\".format(cross_val_score(NB, X_train, y_train, scoring=\"roc_auc\", cv = 3).std()))\n",
    "\n",
    "\n",
    "NB.fit(X_train,y_train)\n",
    "\n",
    "y_pred=NB.predict(X_test)\n",
    "\n",
    "print(\"Resultado en test {}\".format(roc_auc_score(y_test,y_pred)))\n",
    "\n",
    "\n"
   ]
  },
  {
   "cell_type": "code",
   "execution_count": 253,
   "id": "7866274d",
   "metadata": {},
   "outputs": [
    {
     "name": "stdout",
     "output_type": "stream",
     "text": [
      "Modelo en train con cross validation tiene una media de 0.837808206152237\n",
      "Modelo en train con cross validation tiene una desvio de 0.005587220546777577\n",
      "Resultado en test 0.7945652173913043\n"
     ]
    }
   ],
   "source": [
    "# Regresión logística\n",
    "\n",
    "from sklearn.linear_model import LogisticRegression\n",
    "rl= LogisticRegression(max_iter=10000000000000)\n",
    "print(\"Modelo en train con cross validation tiene una media de {}\".format(cross_val_score(rl, X_train, y_train, scoring=\"roc_auc\", cv = 3).mean()))\n",
    "print(\"Modelo en train con cross validation tiene una desvio de {}\".format(cross_val_score(rl, X_train, y_train, scoring=\"roc_auc\", cv = 3).std()))\n",
    "\n",
    "\n",
    "rl.fit(X_train,y_train)\n",
    "\n",
    "y_pred=rl.predict(X_test)\n",
    "\n",
    "print(\"Resultado en test {}\".format(roc_auc_score(y_test,y_pred)))\n",
    "\n",
    "# Un poquito mejor\n",
    "\n",
    "\n"
   ]
  },
  {
   "cell_type": "code",
   "execution_count": 254,
   "id": "07aedb2a",
   "metadata": {},
   "outputs": [
    {
     "name": "stdout",
     "output_type": "stream",
     "text": [
      "Modelo en train con cross validation tiene una media de 0.839927494888984\n",
      "Modelo en train con cross validation tiene una desvio de 0.02148037385206852\n",
      "Resultado en test 0.7997584541062802\n"
     ]
    }
   ],
   "source": [
    "# Vecinos mas cercanos. A parir de acá ya vamos a optimizar los hiper parámetros\n",
    "\n",
    "from sklearn.neighbors import KNeighborsClassifier\n",
    "from sklearn.model_selection import GridSearchCV\n",
    "\n",
    "par = {\"n_neighbors\":[3,5,7,9,11], \"algorithm\" :[\"auto\", \"ball_tree\", \"kd_tree\", \"brute\"]}\n",
    "\n",
    "KNN= KNeighborsClassifier()\n",
    "\n",
    "clf = GridSearchCV(KNN, par,scoring=\"roc_auc\")\n",
    "\n",
    "clf.fit(X_train,y_train)\n",
    "\n",
    "KNN = KNeighborsClassifier(**clf.best_params_)\n",
    "\n",
    "\n",
    "print(\"Modelo en train con cross validation tiene una media de {}\".format(cross_val_score(KNN, X_train, y_train, scoring=\"roc_auc\", cv = 3).mean()))\n",
    "print(\"Modelo en train con cross validation tiene una desvio de {}\".format(cross_val_score(KNN, X_train, y_train, scoring=\"roc_auc\", cv = 3).std()))\n",
    "\n",
    "\n",
    "KNN.fit(X_train,y_train)\n",
    "\n",
    "y_pred=KNN.predict(X_test)\n",
    "\n",
    "print(\"Resultado en test {}\".format(roc_auc_score(y_test,y_pred)))\n",
    "\n",
    "\n",
    "# Todavía mejor"
   ]
  },
  {
   "cell_type": "code",
   "execution_count": 255,
   "id": "bddbe9cd",
   "metadata": {},
   "outputs": [
    {
     "name": "stdout",
     "output_type": "stream",
     "text": [
      "Modelo en train con cross validation tiene una media de 0.8433024295155233\n",
      "Modelo en train con cross validation tiene una desvio de 0.00906730908966201\n",
      "Resultado en test 0.8254830917874397\n"
     ]
    }
   ],
   "source": [
    "# Maquinas de soporte vectorial\n",
    "\n",
    "from sklearn.svm import SVC\n",
    "\n",
    "par = {\"C\":[0.001,0.01,0.1,1,10], \"kernel\" :[\"linear\", \"poly\", \"rbf\", \"sigmoid\"],\n",
    "      \"gamma\":[\"scale\", \"auto\"]}\n",
    "\n",
    "svc= SVC()\n",
    "\n",
    "clf = GridSearchCV(svc, par,scoring=\"roc_auc\")\n",
    "\n",
    "clf.fit(X_train,y_train)\n",
    "\n",
    "svc = SVC(**clf.best_params_)\n",
    "\n",
    "\n",
    "print(\"Modelo en train con cross validation tiene una media de {}\".format(cross_val_score(svc, X_train, y_train, scoring=\"roc_auc\", cv = 3).mean()))\n",
    "print(\"Modelo en train con cross validation tiene una desvio de {}\".format(cross_val_score(svc, X_train, y_train, scoring=\"roc_auc\", cv = 3).std()))\n",
    "\n",
    "\n",
    "svc.fit(X_train,y_train)\n",
    "\n",
    "y_pred=svc.predict(X_test)\n",
    "\n",
    "print(\"Resultado en test {}\".format(roc_auc_score(y_test,y_pred)))\n",
    "\n",
    "# Obviamente mejor"
   ]
  },
  {
   "cell_type": "code",
   "execution_count": 256,
   "id": "288feba9",
   "metadata": {},
   "outputs": [
    {
     "name": "stdout",
     "output_type": "stream",
     "text": [
      "Modelo en train con cross validation tiene una media de 0.7837298530880045\n",
      "Modelo en train con cross validation tiene una desvio de 0.018629043682777995\n",
      "Resultado en test 0.7472222222222222\n"
     ]
    }
   ],
   "source": [
    "# Arbol de decisión (uno solito)\n",
    "\n",
    "from sklearn.tree import DecisionTreeClassifier\n",
    "\n",
    "par = {\"criterion\":[\"gini\", \"entropy\"], \"splitter\" :[\"best\",\"random\"],\n",
    "      \"max_depth\":list(range(1,12)),\n",
    "      \"max_features\" :[\"auto\", \"sqrt\", \"log2\"]}\n",
    "\n",
    "DTC= DecisionTreeClassifier()\n",
    "\n",
    "clf = GridSearchCV(DTC, par,scoring=\"roc_auc\")\n",
    "\n",
    "clf.fit(X_train,y_train)\n",
    "\n",
    "DTC = DecisionTreeClassifier(**clf.best_params_)\n",
    "\n",
    "\n",
    "print(\"Modelo en train con cross validation tiene una media de {}\".format(cross_val_score(DTC, X_train, y_train, scoring=\"roc_auc\", cv = 3).mean()))\n",
    "print(\"Modelo en train con cross validation tiene una desvio de {}\".format(cross_val_score(DTC, X_train, y_train, scoring=\"roc_auc\", cv = 3).std()))\n",
    "\n",
    "\n",
    "DTC.fit(X_train,y_train)\n",
    "\n",
    "y_pred=DTC.predict(X_test)\n",
    "\n",
    "print(\"Resultado en test {}\".format(roc_auc_score(y_test,y_pred)))\n",
    "\n",
    "# Tiene sentido que dé peor. Las implementaciones como random forest suelen dar mejor."
   ]
  },
  {
   "cell_type": "code",
   "execution_count": 257,
   "id": "e0aa9239",
   "metadata": {},
   "outputs": [
    {
     "name": "stdout",
     "output_type": "stream",
     "text": [
      "Modelo en train con cross validation tiene una media de 0.8492915894071221\n",
      "Modelo en train con cross validation tiene una desvio de 0.01917193075033618\n",
      "Resultado en test 0.8235507246376812\n"
     ]
    }
   ],
   "source": [
    "# Random Forest\n",
    "\n",
    "from sklearn.ensemble import RandomForestClassifier\n",
    "\n",
    "par = {'n_estimators': [100, 700,100],\n",
    "    'max_features': ['auto', 'sqrt', 'log2'],\n",
    "    'max_depth' : [4,5,6,7,8,9,10],\n",
    "    'criterion' :['gini', 'entropy']}\n",
    "\n",
    "RF= RandomForestClassifier()\n",
    "\n",
    "clf = GridSearchCV(RF, par,scoring=\"roc_auc\")\n",
    "\n",
    "clf.fit(X_train,y_train)\n",
    "\n",
    "RF = RandomForestClassifier(**clf.best_params_)\n",
    "\n",
    "\n",
    "print(\"Modelo en train con cross validation tiene una media de {}\".format(cross_val_score(RF, X_train, y_train, scoring=\"roc_auc\", cv = 3).mean()))\n",
    "print(\"Modelo en train con cross validation tiene una desvio de {}\".format(cross_val_score(RF, X_train, y_train, scoring=\"roc_auc\", cv = 3).std()))\n",
    "\n",
    "\n",
    "RF.fit(X_train,y_train)\n",
    "\n",
    "y_pred=RF.predict(X_test)\n",
    "\n",
    "print(\"Resultado en test {}\".format(roc_auc_score(y_test,y_pred)))\n",
    "\n",
    "\n",
    "# El que mejor dió hasta ahora"
   ]
  },
  {
   "cell_type": "code",
   "execution_count": 258,
   "id": "fdd9c684",
   "metadata": {},
   "outputs": [
    {
     "name": "stdout",
     "output_type": "stream",
     "text": [
      "Modelo en train con cross validation tiene una media de 0.8211581800028526\n",
      "Modelo en train con cross validation tiene una desvio de 0.016234996566470723\n",
      "Resultado en test 0.8298309178743962\n"
     ]
    }
   ],
   "source": [
    "# Hagamos Boosting ahorita con árboles\n",
    "\n",
    "from sklearn.ensemble import AdaBoostClassifier\n",
    "\n",
    "Arbol1 = DecisionTreeClassifier(max_depth = 3,max_features=\"sqrt\")\n",
    "Arbol2 = DecisionTreeClassifier(max_depth = 3,max_features=\"log2\")\n",
    "Arbol3 = DecisionTreeClassifier(max_depth = 4,max_features=\"sqrt\")\n",
    "Arbol4 = DecisionTreeClassifier(max_depth = 4,max_features=\"log2\")\n",
    "Arbol5 = DecisionTreeClassifier(max_depth = 5,max_features=\"sqrt\")\n",
    "Arbol6 = DecisionTreeClassifier(max_depth = 5,max_features=\"log2\")\n",
    "Arbol7 = DecisionTreeClassifier(max_depth = 6,max_features=\"sqrt\")\n",
    "Arbol8 = DecisionTreeClassifier(max_depth = 6,max_features=\"log2\")\n",
    "Arbol9 = DecisionTreeClassifier(max_depth = 7,max_features=\"sqrt\")\n",
    "Arbol10 = DecisionTreeClassifier(max_depth = 7,max_features=\"log2\")\n",
    "Arbol11 = DecisionTreeClassifier(max_depth = 8,max_features=\"sqrt\")\n",
    "Arbol12 = DecisionTreeClassifier(max_depth = 8,max_features=\"log2\")\n",
    "Arbol13 = DecisionTreeClassifier(max_depth = 9,max_features=\"sqrt\")\n",
    "Arbol14 = DecisionTreeClassifier(max_depth = 9,max_features=\"log2\")\n",
    "Arbol15 = DecisionTreeClassifier(max_depth = 10,max_features=\"sqrt\")\n",
    "Arbol16 = DecisionTreeClassifier(max_depth = 10,max_features=\"log2\")\n",
    "par = {'base_estimator': [Arbol1,Arbol2,Arbol3,Arbol4,Arbol5,Arbol6,Arbol7,Arbol8,Arbol9,Arbol10,\n",
    "                         Arbol11,Arbol12,Arbol13,Arbol14,Arbol15,Arbol16],\n",
    "    'n_estimators': [50,60,70,80,90,100],\n",
    "    'learning_rate' : [0.01,0.1,1,10]}\n",
    "\n",
    "ADA= AdaBoostClassifier()\n",
    "\n",
    "clf = GridSearchCV(ADA, par,scoring=\"roc_auc\")\n",
    "\n",
    "clf.fit(X_train,y_train)\n",
    "\n",
    "ADA = AdaBoostClassifier(**clf.best_params_)\n",
    "\n",
    "\n",
    "print(\"Modelo en train con cross validation tiene una media de {}\".format(cross_val_score(ADA, X_train, y_train, scoring=\"roc_auc\", cv = 3).mean()))\n",
    "print(\"Modelo en train con cross validation tiene una desvio de {}\".format(cross_val_score(ADA, X_train, y_train, scoring=\"roc_auc\", cv = 3).std()))\n",
    "\n",
    "\n",
    "ADA.fit(X_train,y_train)\n",
    "\n",
    "y_pred=ADA.predict(X_test)\n",
    "\n",
    "print(\"Resultado en test {}\".format(roc_auc_score(y_test,y_pred)))\n",
    "\n",
    "# Por lo pronto es el 2do modelo que mejor dió."
   ]
  },
  {
   "cell_type": "code",
   "execution_count": null,
   "id": "39817781",
   "metadata": {},
   "outputs": [],
   "source": []
  },
  {
   "cell_type": "code",
   "execution_count": 259,
   "id": "b18f7515",
   "metadata": {},
   "outputs": [
    {
     "name": "stdout",
     "output_type": "stream",
     "text": [
      "PassengerId      0\n",
      "Pclass           0\n",
      "Name             0\n",
      "Sex              0\n",
      "Age             86\n",
      "SibSp            0\n",
      "Parch            0\n",
      "Ticket           0\n",
      "Fare             1\n",
      "Cabin          327\n",
      "Embarked         0\n",
      "dtype: int64\n"
     ]
    },
    {
     "data": {
      "text/plain": [
       "RandomForestClassifier(max_depth=4, max_features='log2')"
      ]
     },
     "execution_count": 259,
     "metadata": {},
     "output_type": "execute_result"
    }
   ],
   "source": [
    "# Bueno, ya probé bastante. Vamos a predecir\n",
    "\n",
    "print(test.isnull().sum())\n",
    "\n",
    "Id = test[\"PassengerId\"]\n",
    "# Reemplazo las edades faltantes con la mediana de las mismas\n",
    "\n",
    "test[\"Age\"] = test[\"Age\"].fillna(test[\"Age\"].median())\n",
    "\n",
    "# Reemplazo cabin con 1 si hay datos, 0 si no.\n",
    "\n",
    "test[\"Cabin\"] = np.where(test[\"Cabin\"].isnull(), 0, 1)\n",
    "\n",
    "# Lo mismo que con edades en Fare\n",
    "\n",
    "test[\"Fare\"] = test[\"Fare\"].fillna(test[\"Fare\"].median())\n",
    "\n",
    "\n",
    "\n",
    "X = test.drop([\"PassengerId\",\"Name\",\"Ticket\"],axis=1)\n",
    "\n",
    "# Hago booleano las variables categóricas\n",
    "\n",
    "X=pd.get_dummies(X)\n",
    "\n",
    "X = scaler.transform(X)\n",
    "\n",
    "\n",
    "\n",
    "\n",
    "\n",
    "\n"
   ]
  },
  {
   "cell_type": "code",
   "execution_count": 260,
   "id": "1defe170",
   "metadata": {},
   "outputs": [],
   "source": [
    "RF.fit(X_train,y_train)\n",
    "y_pred = RF.predict(X)\n",
    "\n"
   ]
  },
  {
   "cell_type": "code",
   "execution_count": 261,
   "id": "e8ef80da",
   "metadata": {},
   "outputs": [
    {
     "data": {
      "text/html": [
       "<div>\n",
       "<style scoped>\n",
       "    .dataframe tbody tr th:only-of-type {\n",
       "        vertical-align: middle;\n",
       "    }\n",
       "\n",
       "    .dataframe tbody tr th {\n",
       "        vertical-align: top;\n",
       "    }\n",
       "\n",
       "    .dataframe thead th {\n",
       "        text-align: right;\n",
       "    }\n",
       "</style>\n",
       "<table border=\"1\" class=\"dataframe\">\n",
       "  <thead>\n",
       "    <tr style=\"text-align: right;\">\n",
       "      <th></th>\n",
       "      <th>PassengerId</th>\n",
       "      <th>Survived</th>\n",
       "    </tr>\n",
       "  </thead>\n",
       "  <tbody>\n",
       "    <tr>\n",
       "      <th>0</th>\n",
       "      <td>892</td>\n",
       "      <td>0</td>\n",
       "    </tr>\n",
       "    <tr>\n",
       "      <th>1</th>\n",
       "      <td>893</td>\n",
       "      <td>1</td>\n",
       "    </tr>\n",
       "    <tr>\n",
       "      <th>2</th>\n",
       "      <td>894</td>\n",
       "      <td>0</td>\n",
       "    </tr>\n",
       "    <tr>\n",
       "      <th>3</th>\n",
       "      <td>895</td>\n",
       "      <td>0</td>\n",
       "    </tr>\n",
       "    <tr>\n",
       "      <th>4</th>\n",
       "      <td>896</td>\n",
       "      <td>1</td>\n",
       "    </tr>\n",
       "    <tr>\n",
       "      <th>...</th>\n",
       "      <td>...</td>\n",
       "      <td>...</td>\n",
       "    </tr>\n",
       "    <tr>\n",
       "      <th>413</th>\n",
       "      <td>1305</td>\n",
       "      <td>0</td>\n",
       "    </tr>\n",
       "    <tr>\n",
       "      <th>414</th>\n",
       "      <td>1306</td>\n",
       "      <td>1</td>\n",
       "    </tr>\n",
       "    <tr>\n",
       "      <th>415</th>\n",
       "      <td>1307</td>\n",
       "      <td>0</td>\n",
       "    </tr>\n",
       "    <tr>\n",
       "      <th>416</th>\n",
       "      <td>1308</td>\n",
       "      <td>0</td>\n",
       "    </tr>\n",
       "    <tr>\n",
       "      <th>417</th>\n",
       "      <td>1309</td>\n",
       "      <td>0</td>\n",
       "    </tr>\n",
       "  </tbody>\n",
       "</table>\n",
       "<p>418 rows × 2 columns</p>\n",
       "</div>"
      ],
      "text/plain": [
       "     PassengerId  Survived\n",
       "0            892         0\n",
       "1            893         1\n",
       "2            894         0\n",
       "3            895         0\n",
       "4            896         1\n",
       "..           ...       ...\n",
       "413         1305         0\n",
       "414         1306         1\n",
       "415         1307         0\n",
       "416         1308         0\n",
       "417         1309         0\n",
       "\n",
       "[418 rows x 2 columns]"
      ]
     },
     "execution_count": 261,
     "metadata": {},
     "output_type": "execute_result"
    }
   ],
   "source": [
    "Ejemplo"
   ]
  },
  {
   "cell_type": "code",
   "execution_count": 262,
   "id": "913ed68d",
   "metadata": {},
   "outputs": [],
   "source": [
    "d = {'PassengerId': Id, 'Survived': y_pred}\n",
    "df = pd.DataFrame(data=d)\n",
    "df.to_csv(\"Prueba.csv\",index=False)\n",
    "\n",
    "#Y esto obtuvo 79% en kaggle"
   ]
  },
  {
   "cell_type": "code",
   "execution_count": null,
   "id": "8c1b6838",
   "metadata": {},
   "outputs": [],
   "source": []
  }
 ],
 "metadata": {
  "kernelspec": {
   "display_name": "Python 3",
   "language": "python",
   "name": "python3"
  },
  "language_info": {
   "codemirror_mode": {
    "name": "ipython",
    "version": 3
   },
   "file_extension": ".py",
   "mimetype": "text/x-python",
   "name": "python",
   "nbconvert_exporter": "python",
   "pygments_lexer": "ipython3",
   "version": "3.8.8"
  }
 },
 "nbformat": 4,
 "nbformat_minor": 5
}
